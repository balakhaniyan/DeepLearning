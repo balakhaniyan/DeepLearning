{
 "cells": [
  {
   "cell_type": "code",
   "execution_count": 1,
   "metadata": {
    "collapsed": true,
    "pycharm": {
     "name": "#%%\n"
    }
   },
   "outputs": [],
   "source": [
    "from tensorflow.keras.datasets import mnist\n",
    "import numpy as np\n",
    "from matplotlib import pyplot as plt\n",
    "from tqdm import tqdm"
   ]
  },
  {
   "cell_type": "code",
   "execution_count": 2,
   "outputs": [],
   "source": [
    "\n",
    "\n",
    "class NeuralNetwork:\n",
    "    def __init__(self, train_x, train_y, learning_rate=1e-8, min_error_threshold=1e-2):\n",
    "        self.X_train = train_x\n",
    "        self.Y_train = train_y\n",
    "        self.weights = np.zeros((self.Y_train.shape[1], self.X_train.shape[1]))\n",
    "        self.learning_rate = learning_rate\n",
    "        self.min_error_threshold = min_error_threshold\n",
    "        self.error = float(\"inf\")\n",
    "\n",
    "    @staticmethod\n",
    "    def network(x, weights):\n",
    "        return [np.dot(x, weight) for weight in weights]\n",
    "\n",
    "    @staticmethod\n",
    "    def show(item):\n",
    "        plt.imshow(item, cmap='Greys')\n",
    "        plt.show()\n",
    "\n",
    "    def fit(self):\n",
    "        i = 0\n",
    "        for iteration in tqdm(range(len(self.X_train))):\n",
    "            i += 1\n",
    "            prediction = self.network(self.X_train[iteration], self.weights)\n",
    "            error = sum((self.Y_train[iteration] - prediction) ** 2)\n",
    "            if error < self.min_error_threshold:\n",
    "                print(f\"{i}: {error}\")\n",
    "                return\n",
    "            if error < self.error:\n",
    "                self.error = error\n",
    "            weighted_delta = [np.dot(data, self.X_train[iteration]) for data in prediction - self.Y_train[iteration]]\n",
    "            self.weights = self.weights - np.array([wd * self.learning_rate for wd in weighted_delta])\n",
    "        return self.error\n",
    "\n",
    "    def predict(self, data):\n",
    "        data = data.reshape(X_train.shape[1])\n",
    "        return np.array([np.dot(data, weight) for weight in self.weights]).argmax()\n",
    "\n",
    "    def predict_show(self, data):\n",
    "        self.show(data)\n",
    "        print(f\"predicted: {self.predict(data)}\")\n",
    "        return np.array([np.dot(data.reshape(X_train.shape[1]), weight) for weight in self.weights])\n",
    "\n",
    "    def prediction_iter(self, x_test, y_test):\n",
    "        for i in range(len(x_test)):\n",
    "            yield 1 if y_test[i] == self.predict(x_test[i].reshape(self.X_train.shape[1])) else 0"
   ],
   "metadata": {
    "collapsed": false,
    "pycharm": {
     "name": "#%%\n"
    }
   }
  },
  {
   "cell_type": "code",
   "execution_count": 3,
   "outputs": [],
   "source": [
    "train, test = mnist.load_data()"
   ],
   "metadata": {
    "collapsed": false,
    "pycharm": {
     "name": "#%%\n"
    }
   }
  },
  {
   "cell_type": "code",
   "execution_count": 4,
   "outputs": [],
   "source": [
    "X_train, y_train = train"
   ],
   "metadata": {
    "collapsed": false,
    "pycharm": {
     "name": "#%%\n"
    }
   }
  },
  {
   "cell_type": "code",
   "execution_count": 5,
   "outputs": [],
   "source": [
    "temp_y = np.zeros((y_train.size, y_train.max() + 1))\n",
    "temp_y[np.arange(y_train.size), y_train] = 1\n",
    "y_train = temp_y"
   ],
   "metadata": {
    "collapsed": false,
    "pycharm": {
     "name": "#%%\n"
    }
   }
  },
  {
   "cell_type": "code",
   "execution_count": 7,
   "outputs": [],
   "source": [
    "X_train = X_train.reshape(-1, 28 * 28)"
   ],
   "metadata": {
    "collapsed": false,
    "pycharm": {
     "name": "#%%\n"
    }
   }
  },
  {
   "cell_type": "code",
   "execution_count": 8,
   "outputs": [],
   "source": [
    "y_train = np.array(y_train)\n",
    "X_train = np.array(X_train)"
   ],
   "metadata": {
    "collapsed": false,
    "pycharm": {
     "name": "#%%\n"
    }
   }
  },
  {
   "cell_type": "code",
   "execution_count": 9,
   "outputs": [
    {
     "name": "stderr",
     "output_type": "stream",
     "text": [
      "100%|██████████| 60000/60000 [00:08<00:00, 7061.86it/s]\n"
     ]
    },
    {
     "data": {
      "text/plain": "0.0029111685569118174"
     },
     "execution_count": 9,
     "metadata": {},
     "output_type": "execute_result"
    }
   ],
   "source": [
    "neural_network = NeuralNetwork(X_train, y_train, learning_rate=1e-8, min_error_threshold=1e-3)\n",
    "neural_network.fit()"
   ],
   "metadata": {
    "collapsed": false,
    "pycharm": {
     "name": "#%%\n"
    }
   }
  },
  {
   "cell_type": "code",
   "execution_count": 10,
   "outputs": [
    {
     "data": {
      "text/plain": "82.78"
     },
     "execution_count": 10,
     "metadata": {},
     "output_type": "execute_result"
    }
   ],
   "source": [
    "lst = neural_network.prediction_iter(test[0], test[1])\n",
    "lst = list(lst)\n",
    "sum(lst) / len(list(lst)) * 100"
   ],
   "metadata": {
    "collapsed": false,
    "pycharm": {
     "name": "#%%\n"
    }
   }
  },
  {
   "cell_type": "code",
   "execution_count": 16,
   "outputs": [
    {
     "data": {
      "text/plain": "<Figure size 432x288 with 1 Axes>",
      "image/png": "[encoded data removed]"
     },
     "metadata": {
      "needs_background": "light"
     },
     "output_type": "display_data"
    },
    {
     "name": "stdout",
     "output_type": "stream",
     "text": [
      "predicted: 0\n"
     ]
    },
    {
     "data": {
      "text/plain": "array([ 0.73237264, -0.00621298, -0.2172218 , -0.02753032, -0.10862353,\n        0.0382142 ,  0.00645822,  0.14569402,  0.03104276,  0.31361345])"
     },
     "execution_count": 16,
     "metadata": {},
     "output_type": "execute_result"
    }
   ],
   "source": [
    "neural_network.predict_show(test[0][9621])"
   ],
   "metadata": {
    "collapsed": false,
    "pycharm": {
     "name": "#%%\n"
    }
   }
  },
  {
   "cell_type": "code",
   "execution_count": 26,
   "outputs": [
    {
     "data": {
      "text/plain": "2"
     },
     "execution_count": 26,
     "metadata": {},
     "output_type": "execute_result"
    }
   ],
   "source": [
    "test[1][2415]"
   ],
   "metadata": {
    "collapsed": false,
    "pycharm": {
     "name": "#%%\n"
    }
   }
  }
 ],
 "metadata": {
  "kernelspec": {
   "display_name": "Python 3",
   "language": "python",
   "name": "python3"
  },
  "language_info": {
   "codemirror_mode": {
    "name": "ipython",
    "version": 2
   },
   "file_extension": ".py",
   "mimetype": "text/x-python",
   "name": "python",
   "nbconvert_exporter": "python",
   "pygments_lexer": "ipython2",
   "version": "2.7.6"
  }
 },
 "nbformat": 4,
 "nbformat_minor": 0
}