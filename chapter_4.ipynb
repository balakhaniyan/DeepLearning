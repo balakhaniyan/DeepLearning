{
 "cells": [
  {
   "cell_type": "code",
   "execution_count": 2,
   "metadata": {},
   "outputs": [
    {
     "data": {
      "text/plain": [
       "0.30250000000000005"
      ]
     },
     "execution_count": 2,
     "metadata": {},
     "output_type": "execute_result"
    }
   ],
   "source": [
    "import random\n",
    "\n",
    "import numpy as np\n",
    "\n",
    "knob_weight = 0.5\n",
    "inp = 0.5\n",
    "goal_predict = 0.8\n",
    "predict = inp * knob_weight\n",
    "error = (goal_predict - predict) ** 2\n",
    "error"
   ]
  },
  {
   "cell_type": "code",
   "execution_count": 3,
   "metadata": {
    "pycharm": {
     "name": "#%%\n"
    }
   },
   "outputs": [
    {
     "name": "stdout",
     "output_type": "stream",
     "text": [
      "0.022499999999999975\n",
      "0.49000000000000027\n",
      "0.05522499999999994\n"
     ]
    }
   ],
   "source": [
    "weight = 0.1\n",
    "lr = 0.01\n",
    "\n",
    "\n",
    "def neural_network(input, weight):\n",
    "    prediction = input * weight\n",
    "    return prediction\n",
    "\n",
    "\n",
    "number_of_toes = [8.5]\n",
    "win_or_lose_binary = [1]  # (won!!!)\n",
    "input = number_of_toes[0]\n",
    "true = win_or_lose_binary[0]\n",
    "pred = neural_network(input, weight)\n",
    "error = (pred - true) ** 2\n",
    "print(error)\n",
    "lr = 0.1\n",
    "p_up = neural_network(input, weight + lr)\n",
    "e_up = (p_up - true) ** 2\n",
    "print(e_up)\n",
    "lr = 0.01\n",
    "p_dn = neural_network(input, weight - lr)\n",
    "e_dn = (p_dn - true) ** 2\n",
    "print(e_dn)"
   ]
  },
  {
   "cell_type": "code",
   "execution_count": 4,
   "metadata": {
    "pycharm": {
     "name": "#%%\n"
    }
   },
   "outputs": [
    {
     "name": "stdout",
     "output_type": "stream",
     "text": [
      "iteration: 0, error: 1056.25, prediction: 2.5\n",
      "iteration: 1, error: 594.140625, prediction: 10.625\n",
      "iteration: 2, error: 334.2041015625, prediction: 16.71875\n",
      "iteration: 3, error: 187.98980712890625, prediction: 21.2890625\n",
      "iteration: 4, error: 105.74426651000977, prediction: 24.716796875\n",
      "iteration: 5, error: 59.48114991188049, prediction: 27.28759765625\n",
      "iteration: 6, error: 33.45814682543278, prediction: 29.2156982421875\n",
      "iteration: 7, error: 18.820207589305937, prediction: 30.661773681640625\n",
      "iteration: 8, error: 10.58636676898459, prediction: 31.74633026123047\n",
      "iteration: 9, error: 5.954831307553832, prediction: 32.55974769592285\n",
      "iteration: 10, error: 3.3495926104990303, prediction: 33.16981077194214\n",
      "iteration: 11, error: 1.8841458434057046, prediction: 33.627358078956604\n",
      "iteration: 12, error: 1.0598320369157088, prediction: 33.97051855921745\n",
      "iteration: 13, error: 0.5961555207650862, prediction: 34.22788891941309\n",
      "iteration: 14, error: 0.335337480430361, prediction: 34.42091668955982\n",
      "iteration: 15, error: 0.18862733274207805, prediction: 34.56568751716986\n",
      "iteration: 16, error: 0.10610287466741891, prediction: 34.6742656378774\n",
      "iteration: 17, error: 0.059682867000423134, prediction: 34.75569922840805\n",
      "iteration: 18, error: 0.03357161268773801, prediction: 34.816774421306036\n",
      "iteration: 19, error: 0.018884032136852632, prediction: 34.86258081597953\n",
      "iteration: 20, error: 0.010622268076979606, prediction: 34.896935611984645\n",
      "iteration: 21, error: 0.005975025793301028, prediction: 34.922701708988484\n",
      "iteration: 22, error: 0.0033609520087318286, prediction: 34.94202628174136\n",
      "iteration: 23, error: 0.0018905355049116535, prediction: 34.95651971130602\n",
      "iteration: 24, error: 0.0010634262215126892, prediction: 34.96738978347952\n",
      "iteration: 25, error: 0.0005981772496008877, prediction: 34.97554233760964\n",
      "iteration: 26, error: 0.000336474702900369, prediction: 34.98165675320723\n",
      "iteration: 27, error: 0.00018926702038145755, prediction: 34.986242564905425\n",
      "iteration: 28, error: 0.00010646269896449656, prediction: 34.98968192367907\n",
      "iteration: 29, error: 5.98852681675843e-05, prediction: 34.9922614427593\n",
      "iteration: 30, error: 3.3685463344224933e-05, prediction: 34.99419608206948\n",
      "iteration: 31, error: 1.8948073131157453e-05, prediction: 34.995647061552106\n",
      "iteration: 32, error: 1.0658291136299264e-05, prediction: 34.996735296164076\n",
      "iteration: 33, error: 5.995288764168336e-06, prediction: 34.99755147212306\n",
      "iteration: 34, error: 3.372349929851213e-06, prediction: 34.99816360409229\n",
      "iteration: 35, error: 1.8969468355462007e-06, prediction: 34.998622703069216\n",
      "iteration: 36, error: 1.0670325949873981e-06, prediction: 34.998967027301916\n",
      "iteration: 37, error: 6.002058346804115e-07, prediction: 34.99922527047644\n",
      "iteration: 38, error: 3.3761578200979575e-07, prediction: 34.999418952857326\n",
      "iteration: 39, error: 1.899088773805101e-07, prediction: 34.999564214642994\n",
      "iteration: 40, error: 1.0682374352537577e-07, prediction: 34.99967316098225\n",
      "iteration: 41, error: 6.0088355732153e-08, prediction: 34.99975487073669\n",
      "iteration: 42, error: 3.379970009998922e-08, prediction: 34.999816153052514\n",
      "iteration: 43, error: 1.9012331305754067e-08, prediction: 34.99986211478939\n",
      "iteration: 44, error: 1.0694436359119263e-08, prediction: 34.99989658609204\n",
      "iteration: 45, error: 6.0156204517290355e-09, prediction: 34.99992243956903\n",
      "iteration: 46, error: 3.383786504510907e-09, prediction: 34.99994182967677\n",
      "iteration: 47, error: 1.9033799087873854e-09, prediction: 34.99995637225758\n",
      "iteration: 48, error: 1.0706511985766567e-09, prediction: 34.999967279193186\n",
      "iteration: 49, error: 6.022412991993694e-10, prediction: 34.99997545939489\n",
      "iteration: 50, error: 3.3876073066886664e-10, prediction: 34.99998159454617\n",
      "iteration: 51, error: 1.9055291100123747e-10, prediction: 34.99998619590963\n",
      "iteration: 52, error: 1.0718601243819609e-10, prediction: 34.99998964693222\n",
      "iteration: 53, error: 6.029213199648529e-11, prediction: 34.999992235199166\n",
      "find it! 6.029213199648529e-11\n"
     ]
    }
   ],
   "source": [
    "import fractions\n",
    "\n",
    "\n",
    "def multiply(*args):\n",
    "    res = fractions.Fraction(\"1\")\n",
    "    for arg in args:\n",
    "        res = res.__mul__(fractions.Fraction(str(arg)))\n",
    "    return float(res)\n",
    "\n",
    "\n",
    "def neural_network(information, weight):\n",
    "    return multiply(information, weight)\n",
    "\n",
    "\n",
    "goal_predict = random.randint(1, 100)\n",
    "weight = 5\n",
    "data = 0.5\n",
    "lr = 0.1\n",
    "i = -1\n",
    "while true:\n",
    "    i += 1\n",
    "    print(\n",
    "        f\"iteration: {i}, error: {(error := ((goal_predict - (predict := neural_network(data, weight))) ** 2))}, prediction: {predict}\")\n",
    "    if error <= 1e-10:\n",
    "        print(f\"find it! {error}\")\n",
    "        break\n",
    "    weight -= (predict - goal_predict) * data\n",
    "    # if (goal_predict - neural_network(data, weight + lr)) ** 2 < (\n",
    "    #         goal_predict - neural_network(data, weight - lr)) ** 2:\n",
    "    #     weight += lr\n",
    "    # else:\n",
    "    #     weight -= lr"
   ]
  },
  {
   "cell_type": "code",
   "execution_count": 5,
   "metadata": {
    "pycharm": {
     "name": "#%%\n"
    }
   },
   "outputs": [
    {
     "name": "stderr",
     "output_type": "stream",
     "text": [
      "  1%|          | 8/1000 [00:00<00:00, 4010.33it/s]"
     ]
    },
    {
     "name": "stdout",
     "output_type": "stream",
     "text": [
      "Iteration: 0, Error: 861109.7616000001, Goal: 928, Prediction: 0.04, direction_and_amount: 3711.84, Weight = 0.01\n",
      "Iteration: 1, Error: 1860772.0838414403, Goal: 1624, Prediction: 259.8988, direction_and_amount: 9548.7084, Weight = 37.1284\n",
      "Iteration: 2, Error: 88895.53818498834, Goal: -696, Prediction: -397.84645199999994, direction_and_amount: 894.4606440000002, Weight = 132.61548399999998\n",
      "Iteration: 3, Error: 130870.03585953572, Goal: -928, Prediction: -566.2403617599999, direction_and_amount: 1447.0385529600003, Weight = 141.56009043999998\n",
      "Iteration: 4, Error: 5771.368581405524, Goal: -232, Prediction: -156.0304759696, direction_and_amount: 75.96952403040001, Weight = 156.0304759696\n",
      "Iteration: 5, Error: 22626.07338654221, Goal: 464, Prediction: 313.580342419808, direction_and_amount: 300.839315160384, Weight = 156.790171209904\n",
      "Iteration: 6, Error: 46917.42577433395, Goal: -696, Prediction: -479.3956930845235, direction_and_amount: 649.8129207464295, Weight = 159.79856436150783\n",
      "Iteration: 7, Error: 431692.44759695476, Goal: -2320, Prediction: -1662.9669356897214, direction_and_amount: 6570.330643102787, Weight = 166.29669356897213\n",
      "Iteration: 8, Error: 0.0, Goal: -696, Prediction: -696.0, direction_and_amount: -0.0, Weight = 232.0\n",
      "weight: 232.0, goal_weight: 232\n"
     ]
    },
    {
     "name": "stderr",
     "output_type": "stream",
     "text": [
      "\n"
     ]
    }
   ],
   "source": [
    "weight = 0.01\n",
    "data = np.random.randint(-10, 10, 1000)\n",
    "data = data[data != 0]\n",
    "x = data\n",
    "y = data * (goal_weight := (np.random.randint(1, 1000, 1)))\n",
    "alpha = 0.01\n",
    "iteration = 0\n",
    "from tqdm import tqdm\n",
    "\n",
    "X, Y = [], []\n",
    "for iteration in tqdm(range(1000)):\n",
    "    prediction = neural_network(x[iteration], weight)\n",
    "    error = (prediction - y[iteration]) ** 2\n",
    "    direction_and_amount = (y[iteration] - prediction) * x[iteration]\n",
    "    X.append(prediction)\n",
    "    Y.append(y[iteration])\n",
    "    print(\n",
    "        f\"Iteration: {iteration}, Error: {error}, Goal: {y[iteration]}, Prediction: {prediction}, direction_and_amount: {direction_and_amount}, Weight = {weight}\")\n",
    "    if weight != 0 and error < 1e-1:\n",
    "        print(f\"weight: {weight}, goal_weight: {goal_weight[0]}\")\n",
    "        break\n",
    "    weight += direction_and_amount * alpha"
   ]
  },
  {
   "cell_type": "code",
   "execution_count": 6,
   "metadata": {
    "pycharm": {
     "name": "#%%\n"
    }
   },
   "outputs": [],
   "source": [
    "import matplotlib.pyplot as plt"
   ]
  },
  {
   "cell_type": "code",
   "execution_count": 7,
   "metadata": {
    "pycharm": {
     "name": "#%%\n"
    }
   },
   "outputs": [
    {
     "data": {
      "text/plain": [
       "[<matplotlib.lines.Line2D at 0x18cf1069670>]"
      ]
     },
     "execution_count": 7,
     "metadata": {},
     "output_type": "execute_result"
    },
    {
     "data": {
      "image/png": "[encoded data removed]",
      "text/plain": [
       "<Figure size 432x288 with 1 Axes>"
      ]
     },
     "metadata": {
      "needs_background": "light"
     },
     "output_type": "display_data"
    }
   ],
   "source": [
    "plt.plot(x, y)"
   ]
  },
  {
   "cell_type": "code",
   "execution_count": 8,
   "metadata": {
    "pycharm": {
     "name": "#%%\n"
    }
   },
   "outputs": [],
   "source": [
    "from sympy.plotting import plot_implicit\n",
    "from sympy.parsing.sympy_parser import parse_expr\n",
    "\n",
    "\n",
    "def ez_plot(s):\n",
    "    #Parse doesn't parse = sign so split\n",
    "    lhs, rhs = s.replace(\"^\", \"**\").split(\"=\")\n",
    "    eqn_lhs = parse_expr(lhs)\n",
    "    eqn_rhs = parse_expr(rhs)\n",
    "\n",
    "    plot_implicit(eqn_lhs - eqn_rhs)"
   ]
  },
  {
   "cell_type": "code",
   "execution_count": 9,
   "metadata": {
    "pycharm": {
     "name": "#%%\n"
    }
   },
   "outputs": [
    {
     "data": {
      "image/png": "[encoded data removed]",
      "text/plain": [
       "<Figure size 432x288 with 1 Axes>"
      ]
     },
     "metadata": {
      "needs_background": "light"
     },
     "output_type": "display_data"
    }
   ],
   "source": [
    "from pylab import *\n",
    "\n",
    "x = linspace(-10, 13.25, 30)\n",
    "y = ((0.5 * x) - 0.8) ** 2\n",
    "plot(x, y)\n",
    "show()"
   ]
  },
  {
   "cell_type": "code",
   "execution_count": 12,
   "metadata": {
    "pycharm": {
     "name": "#%%\n"
    }
   },
   "outputs": [
    {
     "name": "stdout",
     "output_type": "stream",
     "text": [
      "{'step': 1, 'weight': 3.6752000000000002, 'error': 142884.0, 'predict': 42.0, 'information': 84, 'goal': 420}\n",
      "{'step': 2, 'weight': 3.7091148800000004, 'error': 449.30433023999984, 'predict': 58.803200000000004, 'information': 16, 'goal': 80}\n",
      "{'step': 3, 'weight': 4.03183616, 'error': 4165.960982593535, 'predict': 185.455744, 'information': 50, 'goal': 250}\n",
      "{'step': 4, 'weight': 4.059816094976, 'error': 270.8916128931447, 'predict': 68.54121472, 'information': 17, 'goal': 85}\n",
      "{'step': 5, 'weight': 4.7551761111317505, 'error': 6537.662953868647, 'predict': 349.14418416793603, 'information': 86, 'goal': 430}\n",
      "{'step': 6, 'weight': 4.762251521520043, 'error': 17.322294866005624, 'predict': 80.83799388923975, 'information': 17, 'goal': 85}\n",
      "{'step': 7, 'weight': 4.7683378825691305, 'error': 14.470230789000832, 'predict': 76.19602434432069, 'information': 16, 'goal': 80}\n",
      "{'step': 8, 'weight': 4.866215127183673, 'error': 226.7444973570402, 'predict': 309.9419623669935, 'information': 65, 'goal': 325}\n",
      "{'step': 9, 'weight': 4.877466434987526, 'error': 15.052547835558405, 'predict': 141.1202386883265, 'information': 29, 'goal': 145}\n",
      "{'step': 10, 'weight': 4.990393368503022, 'error': 138.37339749580278, 'predict': 468.23677775880253, 'information': 96, 'goal': 480}\n",
      "{'step': 11, 'weight': 4.9913770875683126, 'error': 0.09450226556798019, 'predict': 159.6925877920967, 'information': 32, 'goal': 160}\n",
      "{'step': 12, 'weight': 4.9958472053728995, 'error': 0.3854543438828132, 'predict': 359.3791503049185, 'information': 72, 'goal': 360}\n",
      "{'step': 13, 'weight': 4.995981755918818, 'error': 0.00558760784162022, 'predict': 89.92524969671219, 'information': 18, 'goal': 90}\n",
      "{'step': 14, 'weight': 4.996986316939113, 'error': 0.04036571373988867, 'predict': 249.7990877959409, 'information': 50, 'goal': 250}\n",
      "{'step': 15, 'weight': 4.996993851146765, 'error': 0.00022705713978689516, 'predict': 24.984931584695566, 'information': 5, 'goal': 25}\n",
      "{'step': 16, 'weight': 4.99868480987671, 'error': 0.050832736468887696, 'predict': 374.7745388360074, 'information': 75, 'goal': 375}\n",
      "{'step': 17, 'weight': 4.998987829681115, 'error': 0.003985286539164815, 'predict': 239.93687087408205, 'information': 48, 'goal': 240}\n",
      "{'step': 18, 'weight': 4.99901060351329, 'error': 0.00023050996974686722, 'predict': 74.98481744521673, 'information': 15, 'goal': 75}\n",
      "{'step': 19, 'weight': 4.999124977747154, 'error': 0.0011316146515491024, 'predict': 169.96636051945185, 'information': 34, 'goal': 170}\n",
      "{'step': 20, 'weight': 4.999175379028918, 'error': 0.00044102243115471225, 'predict': 119.97899946593168, 'information': 24, 'goal': 120}\n",
      "{'step': 21, 'weight': 4.9992598202163565, 'error': 0.000696319739851431, 'predict': 159.97361212892537, 'information': 32, 'goal': 160}\n",
      "{'step': 22, 'weight': 4.99926100450401, 'error': 8.7658577938324e-06, 'predict': 19.997039280865426, 'information': 4, 'goal': 20}\n"
     ]
    },
    {
     "data": {
      "text/plain": [
       "False"
      ]
     },
     "execution_count": 12,
     "metadata": {},
     "output_type": "execute_result"
    }
   ],
   "source": [
    "import numpy as np\n",
    "\n",
    "\n",
    "class NeuralNetworkOutput:\n",
    "    def __init__(self, weight, index):\n",
    "        self.weight = weight\n",
    "        self.index = index\n",
    "\n",
    "    def __repr__(self):\n",
    "        return f'weight: {self.weight}'\n",
    "\n",
    "    def __eq__(self, other):\n",
    "        return abs(self.weight - other) < 1e-4\n",
    "\n",
    "\n",
    "class NeuralNetwork:\n",
    "    @staticmethod\n",
    "    def default_alert(**kwargs):\n",
    "        print(kwargs)\n",
    "\n",
    "    def neural_network(self, information):\n",
    "        return self.weight * information\n",
    "\n",
    "    def __init__(self, weight=5e-1, alpha=1e-4, threshold=1e-5, alert=None):\n",
    "        self.weight = 0.01\n",
    "        self.initial_weight = weight\n",
    "        self.alpha = alpha\n",
    "        self.threshold = threshold\n",
    "        if alert is None:\n",
    "            self.alert = NeuralNetwork.default_alert\n",
    "        else:\n",
    "            self.alert = alert\n",
    "\n",
    "    def train(self, information, goal):\n",
    "        idx = 0\n",
    "        self.weight = self.initial_weight\n",
    "        for inp, g in np.column_stack((information, goal)):\n",
    "            idx += 1\n",
    "            self.weight -= (err := ((predicted := self.train_step(inp)) - g)) * inp * self.alpha\n",
    "            self.alert(step=idx, weight=self.weight, error=err ** 2, predict=predicted, information=inp, goal=g)\n",
    "            if err ** 2 < self.threshold:\n",
    "                return NeuralNetworkOutput(self.weight, idx)\n",
    "\n",
    "    def train_step(self, information):\n",
    "        return self.neural_network(information)\n",
    "\n",
    "\n",
    "data = np.random.randint(1, 100, 100)\n",
    "goal_weight = 5\n",
    "\n",
    "\n",
    "def read(**kwargs):\n",
    "    for name, val in kwargs.items():\n",
    "        print(f\"{name}: {val}\")\n",
    "\n",
    "\n",
    "neural_network_output = NeuralNetwork().train(data, data * goal_weight)\n",
    "neural_network_output == 4.9999"
   ]
  }
 ],
 "metadata": {
  "kernelspec": {
   "display_name": "Python 3",
   "language": "python",
   "name": "python3"
  },
  "language_info": {
   "codemirror_mode": {
    "name": "ipython",
    "version": 3
   },
   "file_extension": ".py",
   "mimetype": "text/x-python",
   "name": "python",
   "nbconvert_exporter": "python",
   "pygments_lexer": "ipython3",
   "version": "3.8.8"
  }
 },
 "nbformat": 4,
 "nbformat_minor": 1
}