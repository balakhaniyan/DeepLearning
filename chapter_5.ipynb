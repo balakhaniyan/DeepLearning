{
 "cells": [
  {
   "cell_type": "code",
   "execution_count": 1,
   "metadata": {
    "collapsed": true
   },
   "outputs": [],
   "source": [
    "import fractions\n",
    "import math\n",
    "import random\n",
    "\n",
    "import numpy as np"
   ]
  },
  {
   "cell_type": "code",
   "execution_count": 467,
   "metadata": {
    "pycharm": {
     "name": "#%%\n"
    }
   },
   "outputs": [
    {
     "data": {
      "text/plain": "array([[0, 0, 0, ..., 0, 0, 0],\n       [0, 0, 0, ..., 0, 0, 0],\n       [0, 0, 0, ..., 0, 0, 0],\n       ...,\n       [0, 0, 0, ..., 0, 0, 0],\n       [0, 0, 0, ..., 0, 0, 0],\n       [0, 0, 0, ..., 0, 0, 0]], dtype=uint8)"
     },
     "execution_count": 467,
     "metadata": {},
     "output_type": "execute_result"
    }
   ],
   "source": [
    "class NeuralNetworkOutput:\n",
    "    threshold = 1e-4\n",
    "\n",
    "    def __init__(self, weight, index):\n",
    "        self.weight = weight\n",
    "        self.index = index\n",
    "\n",
    "    def __repr__(self):\n",
    "        return f'weight: {self.weight}'\n",
    "\n",
    "    def __eq__(self, other):\n",
    "        print(np.column_stack((np.array(self.weight), np.array(other))))\n",
    "        return max([abs(w[0] - w[1]) for w in zip(self.weight, other)]) < NeuralNetworkOutput.threshold\n",
    "\n",
    "\n",
    "class NeuralNetwork:\n",
    "    @staticmethod\n",
    "    def default_alert(**kwargs):\n",
    "        print(kwargs)\n",
    "\n",
    "    def neural_network(self, information):\n",
    "        return self.weight.dot(information)\n",
    "\n",
    "    def __set_alpha(self):\n",
    "        # alpha = (10 ** -(math.floor(np.emath.log10(np.mean(np.array(self.goal_data)))) + math.floor(\n",
    "        #     np.emath.log10(np.mean(np.array(self.information)))))) * 5\n",
    "        # print(alpha)\n",
    "        alpha = 5e-10\n",
    "        self.alpha = [alpha for _ in range(len(self.information))]\n",
    "\n",
    "    def __init__(self, information, goal, threshold=1e-5, log=None):  # noqa\n",
    "        self.information = information\n",
    "        self.goal_data = goal\n",
    "        self.initial_weight = [0.01 for _ in range(len(information))]\n",
    "        self.weight = np.array(self.initial_weight.copy())\n",
    "        self.threshold = threshold\n",
    "        self.__set_alpha()\n",
    "        if log is None:\n",
    "            self.log = NeuralNetwork.default_alert\n",
    "        else:\n",
    "            self.log = log\n",
    "\n",
    "    def train(self):\n",
    "        idx = 0\n",
    "        self.weight = np.array(self.initial_weight.copy())\n",
    "        for info, goal_item in zip(np.array(self.information).T, self.goal_data):\n",
    "            idx += 1\n",
    "            self.weight -= (err := ((predicted := self.train_step(info)) - goal_item)) * info * self.alpha\n",
    "            self.log(step=idx, weight=self.weight, error=err ** 2, predict=predicted, information=info,\n",
    "                     goal=goal_item)\n",
    "            if goal_item != 0 and err ** 2 < self.threshold:\n",
    "                return NeuralNetworkOutput(self.weight, idx)\n",
    "\n",
    "    def train_step(self, information):\n",
    "        return self.neural_network(information)\n",
    "\n",
    "\n",
    "def read(**kwargs):\n",
    "    for name, val in kwargs.items():\n",
    "        print(f\"{name}: {val}\")\n",
    "\n",
    "\n",
    "number_of_data = 1000\n",
    "data = [np.random.randint(1, 100, 100000) for _ in range(number_of_data)]\n",
    "goal_weights = [random.randint(1, 100) for _ in range(number_of_data)]\n",
    "goal = np.array([info * goal_weight for info, goal_weight in zip(data, goal_weights)]).sum(axis=0)\n",
    "_information = data[0][0].reshape(60000, -1)\n",
    "_goal = data[0][1]\n",
    "neural_network_output = (neural_network := NeuralNetwork(_information, _goal))#.train()\n",
    "print(goal_weights)\n",
    "print(neural_network_output)\n",
    "neural_network_output"
   ]
  },
  {
   "cell_type": "code",
   "execution_count": 446,
   "outputs": [
    {
     "name": "stdout",
     "output_type": "stream",
     "text": [
      "5\n"
     ]
    },
    {
     "data": {
      "text/plain": "<Figure size 432x288 with 1 Axes>",
      "image/png": "[encoded data removed]"
     },
     "metadata": {
      "needs_background": "light"
     },
     "output_type": "display_data"
    }
   ],
   "source": [
    "from matplotlib import pyplot as plt\n",
    "\n",
    "index = 31013\n",
    "plt.imshow(data[0][0][index], interpolation='nearest')\n",
    "print(data[0][1][index])\n",
    "plt.show()\n"
   ],
   "metadata": {
    "collapsed": false,
    "pycharm": {
     "name": "#%%\n"
    }
   }
  }
 ],
 "metadata": {
  "kernelspec": {
   "display_name": "Python 3",
   "language": "python",
   "name": "python3"
  },
  "language_info": {
   "codemirror_mode": {
    "name": "ipython",
    "version": 3
   },
   "file_extension": ".py",
   "mimetype": "text/x-python",
   "name": "python",
   "nbconvert_exporter": "python",
   "pygments_lexer": "ipython3",
   "version": "3.8.8"
  }
 },
 "nbformat": 4,
 "nbformat_minor": 1
}