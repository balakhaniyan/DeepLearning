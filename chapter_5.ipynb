{
 "cells": [
  {
   "cell_type": "code",
   "execution_count": 1,
   "metadata": {
    "collapsed": true
   },
   "outputs": [],
   "source": [
    "import fractions\n",
    "\n",
    "import numpy as np"
   ]
  },
  {
   "cell_type": "code",
   "execution_count": 55,
   "metadata": {
    "pycharm": {
     "name": "#%%\n"
    }
   },
   "outputs": [],
   "source": [
    "class NeuralNetworkOutput:\n",
    "    def __init__(self, weight, index):\n",
    "        self.weight = weight\n",
    "        self.index = index\n",
    "\n",
    "    def __repr__(self):\n",
    "        return f'weight: {self.weight}'\n",
    "\n",
    "    def __eq__(self, other):\n",
    "        return abs(self.weight - other) < 1e-4\n",
    "\n",
    "\n",
    "class NeuralNetwork:\n",
    "    @staticmethod\n",
    "    def default_alert(**kwargs):\n",
    "        print(kwargs)\n",
    "\n",
    "    def neural_network(self, information):\n",
    "        return self.weight * information\n",
    "\n",
    "    def __init__(self, info_data_number=1, threshold=1e-5, alert=None):\n",
    "        self.initial_weight = [0.01 for _ in range(info_data_number)]\n",
    "        self.weight = self.initial_weight\n",
    "        self.alpha = [1e-4 for _ in range(info_data_number)]\n",
    "        self.threshold = threshold\n",
    "        if alert is None:\n",
    "            self.alert = NeuralNetwork.default_alert\n",
    "        else:\n",
    "            self.alert = alert\n",
    "\n",
    "    def train(self, information, goal):\n",
    "        idx = 0\n",
    "        self.weight = self.initial_weight\n",
    "        for inp, g in np.column_stack((information, goal)):\n",
    "            idx += 1\n",
    "            self.weight -= (err := ((predicted := self.train_step(inp)) - g)) * inp * self.alpha\n",
    "            self.alert(step=idx, weight=self.weight, error=err ** 2, predict=predicted, information=inp, goal=g)\n",
    "            if err ** 2 < self.threshold:\n",
    "                return NeuralNetworkOutput(self.weight, idx)\n",
    "\n",
    "    def train_step(self, information):\n",
    "        return self.neural_network(information)\n",
    "\n",
    "\n",
    "data = [np.random.randint(1, 100, 100), np.random.randint(1, 100, 100), np.random.randint(1, 100, 100)]\n",
    "goal_weights = [5, 7, 12]\n",
    "goal = np.array([info * goal_weight for info, goal_weight in zip(data, goal_weights)]).sum(axis=0)\n",
    "\n",
    "\n",
    "def read(**kwargs):\n",
    "    for name, val in kwargs.items():\n",
    "        print(f\"{name}: {val}\")\n",
    "\n",
    "\n",
    "neural_network_output = NeuralNetwork().train(data, goal)"
   ]
  }
 ],
 "metadata": {
  "kernelspec": {
   "display_name": "Python 3",
   "language": "python",
   "name": "python3"
  },
  "language_info": {
   "codemirror_mode": {
    "name": "ipython",
    "version": 3
   },
   "file_extension": ".py",
   "mimetype": "text/x-python",
   "name": "python",
   "nbconvert_exporter": "python",
   "pygments_lexer": "ipython3",
   "version": "3.8.8"
  }
 },
 "nbformat": 4,
 "nbformat_minor": 1
}