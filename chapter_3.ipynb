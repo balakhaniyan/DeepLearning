{
 "cells": [
  {
   "cell_type": "code",
   "execution_count": 126,
   "outputs": [
    {
     "data": {
      "text/plain": "[0.98, 1.11, 1.15, 1.08]"
     },
     "execution_count": 126,
     "metadata": {},
     "output_type": "execute_result"
    }
   ],
   "source": [
    "import fractions\n",
    "import numpy as np\n",
    "\n",
    "\n",
    "def multiply(*args):\n",
    "    res = fractions.Fraction(\"1\")\n",
    "    for arg in args:\n",
    "        res = res.__mul__(fractions.Fraction(str(arg)))\n",
    "    return float(res)\n",
    "\n",
    "\n",
    "def sum_(*args):\n",
    "    res = fractions.Fraction(\"0\")\n",
    "    for arg in args:\n",
    "        res = res.__add__(fractions.Fraction(str(arg)))\n",
    "    return float(res)\n",
    "\n",
    "\n",
    "def neural_network(inp):\n",
    "    weight = 0.1\n",
    "    return multiply(inp, weight)\n",
    "\n",
    "\n",
    "def advanced_network(information):\n",
    "    weight = [0.1, 0.2, 0]\n",
    "    for info in information:\n",
    "        yield sum_(*map(lambda x: multiply(x[0], x[1]), zip(info, weight)))\n",
    "\n",
    "\n",
    "number_of_toes = [8.5, 9.5, 9.9, 9.0]\n",
    "win_lose = [0.65, 0.8, 0.8, 0.9]\n",
    "fans = [1.2, 1.3, 0.5, 1]\n",
    "[data for data in advanced_network(zip(number_of_toes, win_lose, fans))]"
   ],
   "metadata": {
    "collapsed": false,
    "pycharm": {
     "name": "#%%\n"
    }
   }
  },
  {
   "cell_type": "code",
   "execution_count": 133,
   "outputs": [
    {
     "name": "stdout",
     "output_type": "stream",
     "text": [
      "[0.5550000000000002, 0.9800000000000001, 0.9650000000000001]\n",
      "[0.6400000000000001, 1.11, 1.17]\n",
      "[0.9200000000000002, 1.1500000000000001, 1.09]\n",
      "[0.6900000000000001, 1.08, 1.2700000000000002]\n"
     ]
    }
   ],
   "source": [
    "weights = np.array([\n",
    "    [0.1, 0.1, -0.3],  # hurt?\n",
    "    [0.1, 0.2, 0],  # win?\n",
    "    [0, 1.3, 0.1]  # sad?\n",
    "])\n",
    "\n",
    "\n",
    "def multi_input_output(information):\n",
    "    for info in np.array(information).T:\n",
    "        res = []\n",
    "        for weight in weights:\n",
    "            res.append((info.dot(weight)))\n",
    "        print(res)\n",
    "\n",
    "\n",
    "multi_input_output([\n",
    "    [8.5, 9.5, 9.9, 9.0],  # n_toes\n",
    "    [0.65, 0.8, 0.8, 0.9],  # wins\n",
    "    [1.2, 1.3, 0.5, 1.0]  # fans\n",
    "])\n"
   ],
   "metadata": {
    "collapsed": false,
    "pycharm": {
     "name": "#%%\n"
    }
   }
  },
  {
   "cell_type": "code",
   "execution_count": 18,
   "outputs": [],
   "source": [
    "import numpy as np"
   ],
   "metadata": {
    "collapsed": false,
    "pycharm": {
     "name": "#%%\n"
    }
   }
  },
  {
   "cell_type": "code",
   "execution_count": 53,
   "outputs": [
    {
     "data": {
      "text/plain": "6"
     },
     "execution_count": 53,
     "metadata": {},
     "output_type": "execute_result"
    }
   ],
   "source": [
    "def element_wise_multiplication(vec_a, vec_b):\n",
    "    # pythonic\n",
    "    # return list(map(lambda x: x[0]*x[1],zip(vec_a, vec_b)))\n",
    "    # non-pythonic\n",
    "    res = []\n",
    "    for idx, data in enumerate(vec_a):\n",
    "        res.append(vec_b[idx] * data)\n",
    "    return res\n",
    "\n",
    "\n",
    "def vector_sum(vec):\n",
    "    # pythonic\n",
    "    # return sum(vec)\n",
    "    # non-pythonic\n",
    "    res = 0\n",
    "    for data in vec:\n",
    "        res += data\n",
    "    return res\n",
    "\n",
    "\n",
    "vector_sum([1, 2, 3])"
   ],
   "metadata": {
    "collapsed": false,
    "pycharm": {
     "name": "#%%\n"
    }
   }
  },
  {
   "cell_type": "code",
   "execution_count": 136,
   "outputs": [
    {
     "data": {
      "text/plain": "array([ 4,  8, 12])"
     },
     "execution_count": 136,
     "metadata": {},
     "output_type": "execute_result"
    }
   ],
   "source": [
    "a = np.array([1, 2, 3])\n",
    "b = np.array([4])\n",
    "a*b"
   ],
   "metadata": {
    "collapsed": false,
    "pycharm": {
     "name": "#%%\n"
    }
   }
  },
  {
   "cell_type": "code",
   "execution_count": 89,
   "outputs": [],
   "source": [],
   "metadata": {
    "collapsed": false,
    "pycharm": {
     "name": "#%%\n"
    }
   }
  }
 ],
 "metadata": {
  "kernelspec": {
   "display_name": "Python 3",
   "language": "python",
   "name": "python3"
  },
  "language_info": {
   "codemirror_mode": {
    "name": "ipython",
    "version": 2
   },
   "file_extension": ".py",
   "mimetype": "text/x-python",
   "name": "python",
   "nbconvert_exporter": "python",
   "pygments_lexer": "ipython2",
   "version": "2.7.6"
  }
 },
 "nbformat": 4,
 "nbformat_minor": 0
}